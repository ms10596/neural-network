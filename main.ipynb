{
 "cells": [
  {
   "cell_type": "markdown",
   "metadata": {
    "collapsed": true
   },
   "source": [
    "# Neural Network Implementation\n",
    "### Part from Gentic Algorithm Course Assignments"
   ]
  },
  {
   "cell_type": "markdown",
   "metadata": {},
   "source": [
    "We are going to read input from train.txt attached in the repository"
   ]
  },
  {
   "cell_type": "code",
   "execution_count": 2,
   "metadata": {},
   "outputs": [],
   "source": [
    "import numpy as np\n",
    "\n",
    "def read():\n",
    "    f = open(\"train.txt\", \"r\")\n",
    "    line = list(map(int, f.readline().split()))\n",
    "    m = line[0]\n",
    "    l = line[1]\n",
    "    n = line[2]\n",
    "    k = list(map(int, f.readline().split()))[0]\n",
    "\n",
    "    x = np.empty((k, m))\n",
    "    y = np.empty((k, n))\n",
    "    for i in range(k):\n",
    "        line = list(map(float, f.readline().split()))\n",
    "        x[i] = line[0:m]\n",
    "        y[i] = line[m:]\n",
    "    # print(x.shape)\n",
    "    # print(y.shape)\n",
    "    return m, l, n, x, y\n"
   ]
  },
  {
   "cell_type": "markdown",
   "metadata": {},
   "source": [
    "Weights initialization"
   ]
  },
  {
   "cell_type": "code",
   "execution_count": 5,
   "metadata": {},
   "outputs": [
    {
     "name": "stdout",
     "output_type": "stream",
     "text": [
      "(515, 8)\n(515, 1)\n(10, 8)\n(1, 10)\n"
     ]
    }
   ],
   "source": [
    "m, l, n, x, y = read()\n",
    "hidden_weight = np.random.uniform(low=-5, high=5, size=(l, m))\n",
    "output_weight = np.random.uniform(low=-5, high=5, size=(n, l))\n",
    "print(hidden_weight.shape)\n",
    "print(output_weight.shape)"
   ]
  },
  {
   "cell_type": "code",
   "execution_count": null,
   "metadata": {},
   "outputs": [],
   "source": []
  }
 ],
 "metadata": {
  "kernelspec": {
   "display_name": "Python 2",
   "language": "python",
   "name": "python2"
  },
  "language_info": {
   "codemirror_mode": {
    "name": "ipython",
    "version": 2
   },
   "file_extension": ".py",
   "mimetype": "text/x-python",
   "name": "python",
   "nbconvert_exporter": "python",
   "pygments_lexer": "ipython2",
   "version": "2.7.6"
  }
 },
 "nbformat": 4,
 "nbformat_minor": 0
}
